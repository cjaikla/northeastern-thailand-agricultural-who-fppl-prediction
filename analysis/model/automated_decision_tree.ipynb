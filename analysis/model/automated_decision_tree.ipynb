{
 "cells": [
  {
   "cell_type": "markdown",
   "id": "8de194c2",
   "metadata": {},
   "source": [
    "## Automated running decision tree\n",
    "\n",
    "This notebook automates the training, evaluation, and interpretation of decision tree models for predicting the presence of high and medium priority fungal pathogens in environmental samples. \n",
    "\n",
    "- Loads and preprocesses training and test datasets, including one-hot encoding of categorical variables.\n",
    "- Defines multiple feature sets and model configurations for systematic experimentation.\n",
    "- Trains decision tree classifiers for each pathogen group and feature set.\n",
    "- Visualizes and saves decision tree structures.\n",
    "- Extracts and evaluates decision rules (paths) with perfect classification (gini = 0) on the training data.\n",
    "- Applies these rules to the test data to assess their predictive performance.\n",
    "- Saves detailed metrics and results, including per-pathogen Excel reports, for downstream analysis and interpretation.\n",
    "\n",
    "**Note**: Results from `analysis/data_prep/match_taxonomy_to_key_names.ipynb` and `analysis/data_prep/data_prep.ipynb` are required to run this notebook\n",
    "\n",
    "### Experiment variables\n",
    "- feature sets:\n",
    "\t- feature set1: all features\n",
    "\t- feature set2: all features - plant tyeps\n",
    "\t- feature set3: all features - plant types - soil temp\n",
    "\t- feature set4: all features - soil temp\n",
    "- model parameters\n",
    "\t- DecisionTreeClassifier(random_state=42)\n",
    "\t- DecisionTreeClassifier(random_state=42, max_depth =\n",
    "\t\t3)  \n",
    "\n",
    "### Output includes\n",
    "- WHO FPPL (species/pathogen)\n",
    "- Feature\n",
    "- Condition (for only non-existing species)\n",
    "- Training metrics\n",
    "\t- accuracy\n",
    "\t- precision\n",
    "\t- recall\n",
    "- Test data\n",
    "\t- number of samples that matched condition\n",
    "\t- accuracy (based on only samples that matched conditions)"
   ]
  },
  {
   "cell_type": "code",
   "execution_count": null,
   "id": "cf34ab64",
   "metadata": {},
   "outputs": [],
   "source": [
    "import pandas as pd\n",
    "import os\n",
    "import re\n",
    "\n",
    "import matplotlib.pyplot as plt\n",
    "from sklearn.tree import DecisionTreeClassifier, plot_tree\n",
    "\n",
    "import sys\n",
    "sys.path.append('../scripts')\n",
    "from decision_tree_helpers import find_paths_with_gini_zero, evaluate_path"
   ]
  },
  {
   "cell_type": "markdown",
   "id": "c34bb899",
   "metadata": {},
   "source": [
    "## Helpers"
   ]
  },
  {
   "cell_type": "code",
   "execution_count": null,
   "id": "8ca9d3a7",
   "metadata": {},
   "outputs": [],
   "source": [
    "def round_condition_numbers(conditions, decimals=2):\n",
    "    rounded_conditions = []\n",
    "    for cond in conditions:\n",
    "        # Replace numbers with rounded numbers (handles both <= and >)\n",
    "        rounded = re.sub(\n",
    "            r'([<>]=?\\s*)(\\d+\\.\\d+)',\n",
    "            lambda m: f\"{m.group(1)}{float(m.group(2)):.{decimals}f}\",\n",
    "            cond\n",
    "        )\n",
    "        rounded_conditions.append(rounded)\n",
    "    return rounded_conditions\n",
    "\n",
    "# Refine formatting to ensure genus and species remain separated by a space inside italics\n",
    "def format_pathogen_label(name):\n",
    "    if \"spp.\" in name:\n",
    "        parts = name.split(\"spp.\")\n",
    "        genus = parts[0].strip().replace(\" \", r\"\\ \")  # preserve spaces\n",
    "        return rf\"$\\it{{{genus}}}$ spp.{parts[1]}\"\n",
    "    else:\n",
    "        if \"(\" in name:\n",
    "            genus_species, suffix = name.split(\"(\", 1)\n",
    "            genus_species = genus_species.strip().replace(\" \", r\"\\ \")\n",
    "            return rf\"$\\it{{{genus_species}}}$ ({suffix.strip()}\"\n",
    "        else:\n",
    "            genus_species = name.strip().replace(\" \", r\"\\ \")\n",
    "            return rf\"$\\it{{{genus_species}}}$\""
   ]
  },
  {
   "cell_type": "markdown",
   "id": "8198977a",
   "metadata": {},
   "source": [
    "## Input"
   ]
  },
  {
   "cell_type": "code",
   "execution_count": null,
   "id": "f2e661ed",
   "metadata": {},
   "outputs": [],
   "source": [
    "# get path for folders\n",
    "project_root = os.path.abspath(os.path.join(os.getcwd(), \"../..\"))\n",
    "data_folder = os.path.join(project_root, \"data\")\n",
    "results_folder = os.path.join(project_root, \"results\")\n",
    "\n",
    "decision_trees_folder = os.path.join(results_folder, \"decision_trees\")\n",
    "os.makedirs(decision_trees_folder, exist_ok=True)\n",
    "\n",
    "decision_trees_metrics_folder = os.path.join(decision_trees_folder, \"metrics\")\n",
    "os.makedirs(decision_trees_metrics_folder, exist_ok=True)"
   ]
  },
  {
   "cell_type": "code",
   "execution_count": null,
   "id": "9736606a",
   "metadata": {},
   "outputs": [],
   "source": [
    "# training data\n",
    "df = pd.read_csv(f\"{data_folder}/DroughtITS_mapping_w_labels_training_data.csv\")"
   ]
  },
  {
   "cell_type": "code",
   "execution_count": null,
   "id": "29ef90ec",
   "metadata": {},
   "outputs": [],
   "source": [
    "with open(f\"{results_folder}/group_names/pathogen_group_names_training_data.txt\", \"r\") as file:\n",
    "    group_names = [line.strip() for line in file.readlines()]"
   ]
  },
  {
   "cell_type": "code",
   "execution_count": null,
   "id": "e51d9f57",
   "metadata": {},
   "outputs": [],
   "source": [
    "# we don't run Fusarium spp. because it appears in all samples\n",
    "group_names.remove(\"Fusarium spp.\")"
   ]
  },
  {
   "cell_type": "code",
   "execution_count": null,
   "id": "e597916b",
   "metadata": {},
   "outputs": [],
   "source": [
    "features = ['zone', 'province', 'lat', 'lon', 'drought', 'plant',\n",
    "       'water_content', 'organic_matter', 'nitrogen', 'phosphorus',\n",
    "       'potassium', 'temp_soil', 'pH']"
   ]
  },
  {
   "cell_type": "markdown",
   "id": "2951f913",
   "metadata": {},
   "source": [
    "### Test data"
   ]
  },
  {
   "cell_type": "code",
   "execution_count": null,
   "id": "973dab72",
   "metadata": {},
   "outputs": [],
   "source": [
    "test_df = pd.read_csv(f'{data_folder}/DroughtITS_mapping_w_labels_test_data.csv')\n",
    "test_df['nitrogen'] = test_df['n_nitrate']"
   ]
  },
  {
   "cell_type": "markdown",
   "id": "8a9b1173",
   "metadata": {},
   "source": [
    "## Data pre-processing"
   ]
  },
  {
   "cell_type": "code",
   "execution_count": null,
   "id": "bf70f8f3",
   "metadata": {},
   "outputs": [],
   "source": [
    "# One-hot encode categorical features\n",
    "cat_features = ['plant']\n",
    "\n",
    "# training data (data from 2022)\n",
    "df_encoded = pd.get_dummies(df, columns=cat_features)\n",
    "df_encoded = df_encoded.rename(columns={'plant_Rubber tree': 'plant_Rubber_tree'})\n",
    "\n",
    "# test data (data from 2025)\n",
    "test_df_encoded = pd.get_dummies(test_df, columns=cat_features)\n",
    "test_df_encoded['plant_Rice'] = False\n",
    "test_df_encoded = test_df_encoded.rename(columns={'plant_Rubber tree': 'plant_Rubber_tree'})\n"
   ]
  },
  {
   "cell_type": "markdown",
   "id": "8179f0a4",
   "metadata": {},
   "source": [
    "## Features"
   ]
  },
  {
   "cell_type": "code",
   "execution_count": null,
   "id": "74335472",
   "metadata": {},
   "outputs": [],
   "source": [
    "features_sets = {'features_set1':  ['drought', 'water_content', 'organic_matter',\n",
    "       'nitrogen', 'phosphorus', 'potassium', 'temp_soil', 'pH',\n",
    "       'plant_Cassava', 'plant_Rice', 'plant_Rubber_tree', 'plant_Sugarcane'],\n",
    "                 'features_set2': ['drought', 'water_content', 'organic_matter',\n",
    "       'nitrogen', 'phosphorus', 'potassium', 'temp_soil', 'pH'],\n",
    "                 'features_set3': ['drought', 'water_content', 'organic_matter',\n",
    "       'nitrogen', 'phosphorus', 'potassium', 'pH'],\n",
    "                 'features_set4': ['drought', 'water_content', 'organic_matter',\n",
    "       'nitrogen', 'phosphorus', 'potassium', 'pH',\n",
    "       'plant_Cassava', 'plant_Rice', 'plant_Rubber_tree', 'plant_Sugarcane']}"
   ]
  },
  {
   "cell_type": "markdown",
   "id": "1e1fb193",
   "metadata": {},
   "source": [
    "## Decision Trees"
   ]
  },
  {
   "cell_type": "code",
   "execution_count": null,
   "id": "15b2b827",
   "metadata": {},
   "outputs": [],
   "source": [
    "model_names = ['DecisionTreeClassifier', 'DecisionTreeClassifier_max_depth_3' ]"
   ]
  },
  {
   "cell_type": "code",
   "execution_count": null,
   "id": "17b98279",
   "metadata": {},
   "outputs": [],
   "source": [
    "group_names"
   ]
  },
  {
   "cell_type": "code",
   "execution_count": null,
   "id": "a1d5b878",
   "metadata": {},
   "outputs": [],
   "source": [
    "output_metrics = []\n",
    "for idx, group_name in enumerate(group_names):\n",
    "    print(f\"{idx}. Running for group: {group_name}\")\n",
    "    for feature_set in features_sets.keys():\n",
    "        print(f\"Running for feature set: {feature_set}\")\n",
    "        selected_features = features_sets[feature_set] \n",
    "        for model_name in model_names:\n",
    "            print(f\"Running for model: {model_name}\")\n",
    "\n",
    "            # STEP1: Run the model\n",
    "            X = df_encoded[selected_features]\n",
    "            y = df_encoded[group_name]\n",
    "\n",
    "            if model_name == 'DecisionTreeClassifier':\n",
    "                final_model = DecisionTreeClassifier(random_state=42)\n",
    "            elif model_name == 'DecisionTreeClassifier_max_depth_3':\n",
    "                final_model = DecisionTreeClassifier(random_state=42, max_depth = 3)\n",
    "            final_model.fit(X, y)\n",
    "            y_pred = final_model.predict(X)\n",
    "\n",
    "            # STEP2: Plotting the decision tree\n",
    "            plt.figure(figsize=(40,20))\n",
    "            plot_tree(final_model, filled=True, feature_names=selected_features, class_names=['0','1'], rounded=True)\n",
    "\n",
    "            save_dir = f\"{results_folder}/decision_trees/{group_name}/{model_name}/{feature_set}\"\n",
    "            os.makedirs(save_dir, exist_ok=True)\n",
    "            plt.savefig(f\"{results_folder}/decision_trees/{group_name}/{model_name}/{feature_set}/decision_tree_plot.png\") \n",
    "            plt.close()\n",
    "\n",
    "            # STEP3: Identifying paths\n",
    "            # Extract paths\n",
    "            paths = find_paths_with_gini_zero(final_model, selected_features)\n",
    "\n",
    "            # Store path metrics in a list\n",
    "            path_metrics = []\n",
    "\n",
    "            # Evaluate metrics for each path\n",
    "            for i, (path, sample_count) in enumerate(paths):\n",
    "                accuracy, precision, recall = evaluate_path(path, df_encoded, target_column=group_name)  # Replace 'target' with your actual target column name\n",
    "                path_metrics.append({\n",
    "                    \"model\": final_model,\n",
    "                    \"path\": path,\n",
    "                    \"sample_count\": sample_count,\n",
    "                    \"accuracy\": accuracy,\n",
    "                    \"precision\": precision,\n",
    "                    \"recall\": recall\n",
    "                })\n",
    "\n",
    "            # Sort paths by recall in descending order\n",
    "            sorted_paths = sorted(path_metrics, key=lambda x: x[\"recall\"], reverse=True)\n",
    "\n",
    "            sorted_paths_df = pd.DataFrame(sorted_paths)\n",
    "            sorted_paths_df['path'] = sorted_paths_df['path'].apply(lambda x: \" & \".join(x))\n",
    "            sorted_paths_df.to_excel(f\"{results_folder}/decision_trees/{group_name}/{model_name}/{feature_set}/decision_tree_paths_model.xlsx\", index=False)\n",
    "\n",
    "            # STEP4: Test output for a given path\n",
    "            for path in sorted_paths:\n",
    "                # round to 2 decimal places because water_content in test data has only 2 decimal places\n",
    "                rounded_path = round_condition_numbers(path['path'], decimals=2)\n",
    "                condition = \" and \".join(rounded_path)\n",
    "                matched_test_df = test_df_encoded.query(condition)\n",
    "\n",
    "                n_matched_test_samples = matched_test_df.shape[0]\n",
    "                n_correct_matched_test_samples = matched_test_df[matched_test_df[group_name] == False].shape[0]\n",
    "                accuracy = n_correct_matched_test_samples / n_matched_test_samples if n_matched_test_samples > 0 else None\n",
    "                \n",
    "                output_metrics.append({\n",
    "                    'group_name': group_name,\n",
    "                    'feature_set': feature_set,\n",
    "                    'features': selected_features,\n",
    "                    'model_name': model_name,\n",
    "                    'path': \" & \".join(path['path']),\n",
    "                    'training_sample_count': path['sample_count'],\n",
    "                    'training_accuracy': path['accuracy'],\n",
    "                    'training_precision': path['precision'],\n",
    "                    'training_recall': path['recall'],\n",
    "                    'n_matched_test_samples': n_matched_test_samples if n_matched_test_samples is not None else None,\n",
    "                    'n_correct_matched_test_samples': n_correct_matched_test_samples if n_correct_matched_test_samples is not None else None,\n",
    "                    'test_accuracy': accuracy if accuracy is not None else None\n",
    "                }) "
   ]
  },
  {
   "cell_type": "code",
   "execution_count": null,
   "id": "c3bf3b4c",
   "metadata": {},
   "outputs": [],
   "source": [
    "output_metrics_df = pd.DataFrame(output_metrics)"
   ]
  },
  {
   "cell_type": "code",
   "execution_count": null,
   "id": "36647510",
   "metadata": {},
   "outputs": [],
   "source": [
    "output_metrics_df.to_excel(f\"{decision_trees_metrics_folder}/decision_tree_paths_metrics.xlsx\", index=False)"
   ]
  },
  {
   "cell_type": "code",
   "execution_count": null,
   "id": "af9f89f0",
   "metadata": {},
   "outputs": [],
   "source": [
    "with pd.ExcelWriter(f\"{decision_trees_metrics_folder}/decision_tree_paths_metrics_by_group.xlsx\") as writer:\n",
    "    for group, df_group in output_metrics_df.groupby(\"group_name\"):\n",
    "        # Excel sheet names can't be longer than 31 characters\n",
    "        sheet_name = group[:31]\n",
    "        df_group.to_excel(writer, sheet_name=sheet_name, index=False)"
   ]
  },
  {
   "cell_type": "markdown",
   "id": "cc2e49d4",
   "metadata": {},
   "source": [
    "## Precision and Recall Plots\n",
    "- for selected models"
   ]
  },
  {
   "cell_type": "code",
   "execution_count": null,
   "id": "e58b5f16",
   "metadata": {},
   "outputs": [],
   "source": [
    "# selected models for precision and recall plots\n",
    "data = {\n",
    "    \"Pathogen\": [\n",
    "        \"Acremonium spp.\", \"Candida tropicalis (1)\", \"Candida tropicalis (2)\",\n",
    "        \"Curvularia lunata (1)\", \"Curvularia lunata (2)\", \"Falciformispora senegalensis\",\n",
    "        \"Lichtheimia spp.\", \"Mucor spp.\", \"Rhizopus spp.\", \"Scedosporium spp.\",\n",
    "        \"Talaromyces marneffei\"\n",
    "    ],\n",
    "    \"Training Precision\": [1.00, 1.00, 1.00, 1.00, 1.00, 1.00, 1.00, 1.00, 1.00, 1.00, 1.00],\n",
    "    \"Training Recall\": [0.33, 0.46, 0.46, 0.62, 0.54, 0.74, 0.95, 0.90, 0.24, 0.12, 0.40],\n",
    "    \"Test Precision\": [0.00, 1.00, 1.00, 1.00, 1.00, 1.00, 1.00, 1.00, 0.83, 0.00, 1.00],\n",
    "    \"Test Recall\": [0.00, 0.42, 0.75, 0.50, 0.50, 1.00, 0.58, 1.00, 0.63, 0.00, 1.00]\n",
    "}\n",
    "\n",
    "# Create DataFrame\n",
    "df = pd.DataFrame(data)"
   ]
  },
  {
   "cell_type": "code",
   "execution_count": null,
   "id": "ada9f440",
   "metadata": {},
   "outputs": [],
   "source": [
    "# Apply formatting to pathogen names again\n",
    "formatted_labels = [format_pathogen_label(name) for name in df[\"Pathogen\"]]\n",
    "\n",
    "# Plot again with corrected formatting\n",
    "fig, ax = plt.subplots(figsize=(12, 6))\n",
    "\n",
    "bar_width = 0.35\n",
    "x = range(len(df))\n",
    "\n",
    "# Training metrics (blue with black edge)\n",
    "ax.bar([i - bar_width/2 for i in x], df[\"Training Precision\"], width=bar_width/2,\n",
    "       label=\"Training Precision\", color=\"#0072B2\", edgecolor=\"black\")\n",
    "ax.bar([i for i in x], df[\"Training Recall\"], width=bar_width/2,\n",
    "       label=\"Training Recall\", color=\"#0072B2\", hatch=\"//\", edgecolor=\"black\")\n",
    "\n",
    "# Test metrics (orange with black edge)\n",
    "ax.bar([i + bar_width/2 for i in x], df[\"Test Precision\"], width=bar_width/2,\n",
    "       label=\"Test Precision\", color=\"#D55E00\", edgecolor=\"black\")\n",
    "ax.bar([i + bar_width for i in x], df[\"Test Recall\"], width=bar_width/2,\n",
    "       label=\"Test Recall\", color=\"#D55E00\", hatch=\"//\", edgecolor=\"black\")\n",
    "\n",
    "# Formatting\n",
    "ax.set_xticks(x)\n",
    "ax.set_xticklabels(formatted_labels, rotation=45, ha=\"right\")\n",
    "ax.set_ylabel(\"Value\")\n",
    "ax.set_xlabel(\"Pathogen Predicted Absence Condition\")\n",
    "ax.set_ylim(0, 1.1)\n",
    "ax.set_title(\"Training and Test Precision and Recall of Pathogen Absence Prediction Models\", pad=20, fontsize=16)\n",
    "\n",
    "ax.legend(ncol=1, loc=\"center left\", bbox_to_anchor=(1.02, 0.5), frameon=True)\n",
    "\n",
    "# Save figure at 1000 dpi, full page width (7480 pixels)\n",
    "plt.savefig(\n",
    "    f\"{results_folder}/train_test_precision_recall.png\",\n",
    "    dpi=1000,\n",
    "    bbox_inches='tight',\n",
    "    format='png'\n",
    ")\n",
    "plt.show()\n"
   ]
  }
 ],
 "metadata": {
  "kernelspec": {
   "display_name": ".venv",
   "language": "python",
   "name": "python3"
  },
  "language_info": {
   "codemirror_mode": {
    "name": "ipython",
    "version": 3
   },
   "file_extension": ".py",
   "mimetype": "text/x-python",
   "name": "python",
   "nbconvert_exporter": "python",
   "pygments_lexer": "ipython3",
   "version": "3.13.2"
  }
 },
 "nbformat": 4,
 "nbformat_minor": 5
}
