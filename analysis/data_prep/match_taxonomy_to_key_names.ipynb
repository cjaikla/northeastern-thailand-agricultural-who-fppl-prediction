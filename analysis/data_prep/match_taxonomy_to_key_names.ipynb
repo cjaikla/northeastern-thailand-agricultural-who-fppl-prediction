{
 "cells": [
  {
   "cell_type": "markdown",
   "metadata": {},
   "source": [
    "# Match Texonomy to Key Names\n",
    "This notebook processes fungal taxonomy data to identify and classify species according to the WHO fungal priority pathogens list.\n",
    "\n",
    "- Loads taxonomy data for either training or test datasets.\n",
    "- Defines critical, high, and medium priority fungal groups based on WHO guidelines.\n",
    "- Matches species in the dataset to these priority groups.\n",
    "- Saves lists of matched sample names and their classification groups for downstream analysis.\n",
    "- Provides a framework for tracking the presence of priority fungal pathogens in environmental samples."
   ]
  },
  {
   "cell_type": "code",
   "execution_count": 8,
   "metadata": {},
   "outputs": [],
   "source": [
    "import os\n",
    "import json\n",
    "import pandas as pd"
   ]
  },
  {
   "cell_type": "code",
   "execution_count": 9,
   "metadata": {},
   "outputs": [],
   "source": [
    "# get path for data folder\n",
    "project_root = os.path.abspath(os.path.join(os.getcwd(), \"../../..\"))\n",
    "data_folder = os.path.join(project_root, \"data\")"
   ]
  },
  {
   "cell_type": "markdown",
   "metadata": {},
   "source": [
    "# Data\n",
    "- training or test data"
   ]
  },
  {
   "cell_type": "code",
   "execution_count": null,
   "metadata": {},
   "outputs": [],
   "source": [
    "data_set = \"training\"  # options: \"training\" or \"test\""
   ]
  },
  {
   "cell_type": "markdown",
   "metadata": {},
   "source": [
    "# WHO fungal priority pathogens list\n",
    "- ref: https://iris.who.int/bitstream/handle/10665/363682/9789240060241-eng.pdf?sequence=1\n",
    "- create json and save"
   ]
  },
  {
   "cell_type": "code",
   "execution_count": null,
   "metadata": {},
   "outputs": [],
   "source": [
    "high_priority_names_map = {\"Eumycetoma causative agents\": [\"Acremonium spp.\", \"Falciformispora enegalensis\", \"Curvularia lunata\"],\n",
    "             \"Mucorales\": [\"Rhizopus spp.\", \"Mucor spp.\", \"Lichtheimia spp.\"],\n",
    "             \"Fusarium spp.\": [\"Fusarium spp.\"]}\n",
    "medium_priority_names_map = {\"Scedosporium spp.\": [\"Scedosporium spp.\"]}"
   ]
  },
  {
   "cell_type": "code",
   "execution_count": null,
   "metadata": {},
   "outputs": [],
   "source": [
    "groups = {\n",
    "    \"Acremonium spp.\": ['Acremonium acutatum',\n",
    " 'Acremonium brachypenium',\n",
    " 'Acremonium charticola',\n",
    " 'Acremonium furcatum',\n",
    " 'Acremonium hennebertii',\n",
    " 'Acremonium hyalinulum',\n",
    " 'Acremonium pinkertoniae',\n",
    " 'Acremonium polychromum',\n",
    " 'Acremonium sp.',\n",
    " 'Acremonium verruculosum',\n",
    " 'Acremonium vitellinum'],\n",
    "    \"Fusarium spp.\": ['Fusarium beomiforme',\n",
    " 'Fusarium chlamydosporum',\n",
    " 'Fusarium longipes',\n",
    " 'Fusarium nematophilum',\n",
    " 'Fusarium neocosmosporiellum',\n",
    " 'Fusarium oxysporum',\n",
    " 'Fusarium redolens',\n",
    " 'Fusarium solani',\n",
    " 'Fusarium sp.'],\n",
    "     \"Rhizopus spp.\": ['Rhizopus arrhizus',\n",
    " 'Rhizopus microsporus'],\n",
    "     \"Mucor spp.\": ['Mucor circinelloides'],\n",
    "     \"Lichtheimia spp.\": ['Lichtheimia brasiliensis'],\n",
    "     \"Scedosporium spp.\":['Scedosporium aurantiacum',\n",
    " 'Scedosporium boydii',\n",
    " 'Scedosporium prolificans',\n",
    " 'Scedosporium sp.']\n",
    "}"
   ]
  },
  {
   "cell_type": "markdown",
   "metadata": {},
   "source": [
    "Groups that will be used for classification"
   ]
  },
  {
   "cell_type": "code",
   "execution_count": null,
   "metadata": {},
   "outputs": [],
   "source": [
    "critical_priority_classification_groups = {\n",
    "    'Cryptococcus neoformans': ['Cryptococcus neoformans'],\n",
    "    'Candida auris': ['Candida auris'],\n",
    "    'Aspergillus fumigatus': ['Aspergillus fumigatus'],\n",
    "    'Candida albicans': ['Candida albicans']\n",
    "}\n",
    "\n",
    "high_priority_classification_groups = {\n",
    "    'Nakaseomyces glabrata': ['Nakaseomyces glabrata'],\n",
    "    'Histoplasma spp.': ['Histoplasma spp.'],\n",
    "    'Candida glabrata': ['Candida glabrata'],\n",
    "    'Candida tropicalis': ['Candida tropicalis'],\n",
    "    'Candida parapsilosis': ['Candida parapsilosis'],\n",
    "    'Acremonium spp.': ['Acremonium acutatum',\n",
    "                        'Acremonium brachypenium',\n",
    "                        'Acremonium charticola',\n",
    "                        'Acremonium furcatum',\n",
    "                        'Acremonium hennebertii',\n",
    "                        'Acremonium hyalinulum',\n",
    "                        'Acremonium pinkertoniae',\n",
    "                        'Acremonium polychromum',\n",
    "                        'Acremonium sp.',\n",
    "                        'Acremonium verruculosum',\n",
    "                        'Acremonium vitellinum'],\n",
    "    'Falciformispora senegalensis': ['Falciformispora senegalensis'],\n",
    "    'Curvularia lunata': ['Curvularia lunata'],\n",
    "    'Rhizopus spp.': ['Rhizopus arrhizus',\n",
    "                      'Rhizopus microsporus'],\n",
    "    \"Mucor spp.\": ['Mucor circinelloides'],\n",
    "    'Fusarium spp.': ['Fusarium beomiforme',\n",
    "                      'Fusarium chlamydosporum',\n",
    "                      'Fusarium longipes',\n",
    "                      'Fusarium nematophilum',\n",
    "                      'Fusarium neocosmosporiellum',\n",
    "                      'Fusarium oxysporum',\n",
    "                      'Fusarium redolens',\n",
    "                      'Fusarium solani',\n",
    "                      'Fusarium sp.'],\n",
    "    \"Lichtheimia spp.\": ['Lichtheimia brasiliensis']\n",
    "}\n",
    "\n",
    "medium_priority_classification_groups = {\n",
    "    'Scedosporium spp.':['Scedosporium aurantiacum',\n",
    "                         'Scedosporium boydii',\n",
    "                         'Scedosporium prolificans',\n",
    "                         'Scedosporium sp.'],\n",
    "    'Cryptococcus gattii': ['Cryptococcus gattii'],\n",
    "    'Lomentospora prolificans': ['Lomentospora prolificans'],\n",
    "    'Talaromyces marneffei': ['Talaromyces marneffei'],\n",
    "    'Coccidioides spp.': ['Coccidioides spp.'],\n",
    "    'Pneumocystis jirovecii': ['Pneumocystis jirovecii'],\n",
    "    'Pichia kudriavzeveii': ['Pichia kudriavzeveii'],\n",
    "    'Candida krusei': ['Candida krusei'],\n",
    "    'Paracoccidioides spp.': ['Paracoccidioides spp.']                     \n",
    "}\n",
    "    "
   ]
  },
  {
   "cell_type": "markdown",
   "metadata": {},
   "source": [
    "Name by priorities"
   ]
  },
  {
   "cell_type": "code",
   "execution_count": null,
   "metadata": {},
   "outputs": [],
   "source": [
    "high_priority_group = ['Nakaseomyces glabrata',\n",
    " 'Histoplasma spp.',\n",
    " 'Candida glabrata',\n",
    " 'Candida tropicalis',\n",
    " 'Candida parapsilosis',\n",
    " 'Acremonium acutatum',\n",
    " 'Acremonium brachypenium',\n",
    " 'Acremonium charticola',\n",
    " 'Acremonium furcatum',\n",
    " 'Acremonium hennebertii',\n",
    " 'Acremonium hyalinulum',\n",
    " 'Acremonium pinkertoniae',\n",
    " 'Acremonium polychromum',\n",
    " 'Acremonium sp.',\n",
    " 'Acremonium verruculosum',\n",
    " 'Acremonium vitellinum',\n",
    " 'Falciformispora senegalensis',\n",
    " 'Curvularia lunata',\n",
    " 'Rhizopus arrhizus',\n",
    " 'Rhizopus microsporus',\n",
    " 'Mucor circinelloides',\n",
    " 'Fusarium beomiforme',\n",
    " 'Fusarium chlamydosporum',\n",
    " 'Fusarium longipes',\n",
    " 'Fusarium nematophilum',\n",
    " 'Fusarium neocosmosporiellum',\n",
    " 'Fusarium oxysporum',\n",
    " 'Fusarium redolens',\n",
    " 'Fusarium solani',\n",
    " 'Fusarium sp.',\n",
    " 'Lichtheimia brasiliensis']\n",
    "\n",
    "medium_priority_group = ['Scedosporium aurantiacum',\n",
    " 'Scedosporium boydii',\n",
    " 'Scedosporium prolificans',\n",
    " 'Scedosporium sp.',\n",
    " 'Cryptococcus gattii',\n",
    " 'Lomentospora prolificans',\n",
    " 'Talaromyces marneffei',\n",
    " 'Coccidioides spp.',\n",
    " 'Pneumocystis jirovecii',\n",
    " 'Pichia kudriavzeveii',\n",
    " 'Candida krusei',\n",
    " 'Paracoccidioides spp.']"
   ]
  },
  {
   "cell_type": "code",
   "execution_count": null,
   "metadata": {},
   "outputs": [],
   "source": [
    "priority_list = {\"critical_priority\": critical_priority_classification_groups,\n",
    "                \"high_priority\": high_priority_classification_groups,\n",
    "                \"medium_priority\": medium_priority_classification_groups}"
   ]
  },
  {
   "cell_type": "code",
   "execution_count": null,
   "metadata": {},
   "outputs": [],
   "source": [
    "with open(\"WHO_fungal_priority_pathogens_list.json\", \"w\") as file:\n",
    "    json.dump(priority_list, file)"
   ]
  },
  {
   "cell_type": "markdown",
   "metadata": {},
   "source": [
    "# Taxonomy"
   ]
  },
  {
   "cell_type": "code",
   "execution_count": null,
   "metadata": {},
   "outputs": [],
   "source": [
    "if data_set == \"training\":\n",
    "    taxonomy_df = pd.read_csv(os.path.join(data_folder,\"DroughtITS.taxonomy.fix.txt\"), sep = \"\\t\")\n",
    "elif data_set == \"test\":\n",
    "    taxonomy_df = pd.read_csv(os.path.join(data_folder,\"SakhonNakhonApril2025.taxonomy.fix.txt\"), sep = \"\\t\")\n",
    "else:\n",
    "    raise ValueError(\"data_set must be either 'training' or 'test'\")"
   ]
  },
  {
   "cell_type": "code",
   "execution_count": null,
   "metadata": {},
   "outputs": [],
   "source": [
    "# rename the first column to Name\n",
    "taxonomy_df = taxonomy_df.rename(columns={'Unnamed: 0': 'Name'})"
   ]
  },
  {
   "cell_type": "markdown",
   "metadata": {},
   "source": [
    "## Identify Name that is in the priority list\n",
    "\n",
    "### Matching species"
   ]
  },
  {
   "cell_type": "markdown",
   "metadata": {},
   "source": [
    "Critical Group\n",
    "- Note: only test data has critical group species"
   ]
  },
  {
   "cell_type": "code",
   "execution_count": null,
   "metadata": {},
   "outputs": [],
   "source": [
    "critical_priority_group = critical_priority_classification_groups.values()\n",
    "critical_priority_group = [item for sublist in critical_priority_group for item in sublist]"
   ]
  },
  {
   "cell_type": "code",
   "execution_count": null,
   "metadata": {},
   "outputs": [],
   "source": [
    "# critical priority group - exact match\n",
    "critical_priority_samples_df = taxonomy_df[taxonomy_df.Species.isin(critical_priority_group)].reset_index(drop=True)\n",
    "critical_priority_samples_df.shape"
   ]
  },
  {
   "cell_type": "code",
   "execution_count": null,
   "metadata": {},
   "outputs": [],
   "source": [
    "# Create a mapping of species to classification groups\n",
    "species_to_group = {species: group for group, species_list in critical_priority_classification_groups.items() for species in species_list}\n",
    "critical_priority_samples_df['classification_group'] = critical_priority_samples_df['Species'].map(species_to_group)"
   ]
  },
  {
   "cell_type": "code",
   "execution_count": null,
   "metadata": {},
   "outputs": [],
   "source": [
    "# Save sample names to a file\n",
    "critical_priority_samples_df.to_csv(f\"{data_folder}/critical_priority_sample_names_{data_set}_data.csv\", index=False)"
   ]
  },
  {
   "cell_type": "code",
   "execution_count": null,
   "metadata": {},
   "outputs": [],
   "source": [
    "# Save the group names to a file\n",
    "critical_priority_samples_groups = list(critical_priority_samples_df.classification_group.unique())\n",
    "with open(f\"{data_folder}/critical_priority/critical_priority_samples_groups_{data_set}_data\", 'w') as file:\n",
    "    file.write('\\n'.join(critical_priority_samples_groups))\n"
   ]
  },
  {
   "cell_type": "markdown",
   "metadata": {},
   "source": [
    "High Priority Group"
   ]
  },
  {
   "cell_type": "code",
   "execution_count": null,
   "metadata": {},
   "outputs": [],
   "source": [
    "high_priority_group = high_priority_classification_groups.values()\n",
    "high_priority_group = [item for sublist in high_priority_group for item in sublist]"
   ]
  },
  {
   "cell_type": "code",
   "execution_count": null,
   "metadata": {},
   "outputs": [],
   "source": [
    "# high priority group - exact match\n",
    "high_priority_samples_df = taxonomy_df[taxonomy_df.Species.isin(high_priority_group)].reset_index(drop=True)\n",
    "high_priority_samples_df.shape"
   ]
  },
  {
   "cell_type": "code",
   "execution_count": null,
   "metadata": {},
   "outputs": [],
   "source": [
    "# Create a mapping of species to classification groups\n",
    "species_to_group = {species: group for group, species_list in high_priority_classification_groups.items() for species in species_list}\n",
    "high_priority_samples_df['classification_group'] = high_priority_samples_df['Species'].map(species_to_group)"
   ]
  },
  {
   "cell_type": "code",
   "execution_count": null,
   "metadata": {},
   "outputs": [],
   "source": [
    "# Save sample names to a file\n",
    "high_priority_samples_df.to_csv(f\"{data_folder}/high_priority_sample_names_{data_set}_data.csv\", index=False)"
   ]
  },
  {
   "cell_type": "code",
   "execution_count": null,
   "metadata": {},
   "outputs": [],
   "source": [
    "# Save the group names to a file\n",
    "high_priority_samples_groups = list(high_priority_samples_df.classification_group.unique())\n",
    "with open(f\"{data_folder}/high_priority/high_priority_samples_groups_{data_set}_data\", 'w') as file:\n",
    "    file.write('\\n'.join(high_priority_samples_groups))\n"
   ]
  },
  {
   "cell_type": "markdown",
   "metadata": {},
   "source": [
    "Medium Priority Group"
   ]
  },
  {
   "cell_type": "code",
   "execution_count": null,
   "metadata": {},
   "outputs": [],
   "source": [
    "medium_priority_group = medium_priority_classification_groups.values()\n",
    "medium_priority_group = [item for sublist in medium_priority_group for item in sublist]"
   ]
  },
  {
   "cell_type": "code",
   "execution_count": null,
   "metadata": {},
   "outputs": [],
   "source": [
    "# high priority group - exact match\n",
    "medium_priority_samples_df = taxonomy_df[taxonomy_df.Species.isin(medium_priority_group)].reset_index(drop=True)\n",
    "medium_priority_samples_df.shape"
   ]
  },
  {
   "cell_type": "code",
   "execution_count": null,
   "metadata": {},
   "outputs": [],
   "source": [
    "# Create a mapping of species to classification groups\n",
    "species_to_group = {species: group for group, species_list in medium_priority_classification_groups.items() for species in species_list}\n",
    "medium_priority_samples_df['classification_group'] = medium_priority_samples_df['Species'].map(species_to_group)"
   ]
  },
  {
   "cell_type": "code",
   "execution_count": null,
   "metadata": {},
   "outputs": [],
   "source": [
    "# Save sample names to a file\n",
    "medium_priority_samples_df.to_csv(f\"{data_folder}/medium_priority_sample_names_{data_set}_data.csv\", index=False)"
   ]
  },
  {
   "cell_type": "code",
   "execution_count": null,
   "metadata": {},
   "outputs": [],
   "source": [
    "# Save the group names to a file\n",
    "medium_priority_samples_groups = list(medium_priority_samples_df.classification_group.unique())\n",
    "with open(f\"{data_folder}/medium_priority/medium_priority_samples_groups_{data_set}_data\", 'w') as file:\n",
    "    file.write('\\n'.join(medium_priority_samples_groups))\n"
   ]
  }
 ],
 "metadata": {
  "kernelspec": {
   "display_name": ".venv",
   "language": "python",
   "name": "python3"
  },
  "language_info": {
   "codemirror_mode": {
    "name": "ipython",
    "version": 3
   },
   "file_extension": ".py",
   "mimetype": "text/x-python",
   "name": "python",
   "nbconvert_exporter": "python",
   "pygments_lexer": "ipython3",
   "version": "3.13.2"
  }
 },
 "nbformat": 4,
 "nbformat_minor": 2
}
